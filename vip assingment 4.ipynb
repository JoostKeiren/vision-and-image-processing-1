{
 "cells": [
  {
   "cell_type": "markdown",
   "metadata": {},
   "source": [
    "subset of categories: cougar_face, helicopter, pizza, helicopter\n",
    "\n",
    "- select a set of training images\n",
    "- extract SIFT features from training images (ignore position, orientation and scale)\n",
    "- Concatenate features into matrix, one descriptor per row"
   ]
  }
 ],
 "metadata": {
  "language_info": {
   "name": "python"
  }
 },
 "nbformat": 4,
 "nbformat_minor": 2
}

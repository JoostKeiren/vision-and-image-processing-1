{
 "cells": [
  {
   "cell_type": "markdown",
   "metadata": {},
   "source": [
    "subset of categories: cougar_face, helicopter, pizza, helicopter\n",
    "\n",
    "- select a set of training images\n",
    "- extract SIFT features from training images (ignore position, orientation and scale)\n",
    "- Concatenate features into matrix, one descriptor per row"
   ]
  },
  {
   "cell_type": "code",
   "execution_count": null,
   "metadata": {},
   "outputs": [],
   "source": []
  }
 ],
 "metadata": {
  "kernelspec": {
   "display_name": ".venv",
   "language": "python",
   "name": "python3"
  },
  "language_info": {
   "name": "python",
   "version": "3.12.2"
  }
 },
 "nbformat": 4,
 "nbformat_minor": 2
}

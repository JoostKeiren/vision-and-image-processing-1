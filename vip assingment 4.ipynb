{
 "cells": [
  {
   "cell_type": "markdown",
   "metadata": {},
   "source": [
    "subset of categories: cougar_face, helicopter, pizza, helicopter\n",
    "\n",
    "- select a set of training images\n",
    "- extract SIFT features from training images (ignore position, orientation and scale)\n",
    "- Concatenate features into matrix, one descriptor per row"
   ]
  },
  {
   "cell_type": "code",
   "execution_count": 9,
   "metadata": {},
   "outputs": [],
   "source": [
    "import cv2\n",
    "import numpy as np\n",
    "\n",
    "# built-in\n",
    "from glob import glob\n",
    "from pathlib import Path\n",
    "import os"
   ]
  },
  {
   "cell_type": "code",
   "execution_count": 2,
   "metadata": {},
   "outputs": [],
   "source": [
    "sift = cv2.SIFT_create()"
   ]
  },
  {
   "cell_type": "code",
   "execution_count": 10,
   "metadata": {},
   "outputs": [],
   "source": [
    "for jpg_path in glob('Images/*/*.jpg')[:1]:\n",
    "    cat = Path(jpg_path).parts[1] #OS agnostic split\n",
    "    \n",
    "    img = cv2.imread(jpg_path, cv2.IMREAD_GRAYSCALE)  # SIFT works on grayscale images\n",
    "    if img is not None:\n",
    "        # Detect keypoints and compute descriptors\n",
    "        keypoints, descriptors = sift.detectAndCompute(img, None)\n",
    "        print(descriptors)\n",
    "        \n",
    "        # for debug, output new images with the SIFT detected interest points (descriptors)\n",
    "        if False:\n",
    "            # Draw the keypoints on the image\n",
    "            img_with_keypoints = cv2.drawKeypoints(\n",
    "                img, keypoints, None, flags=cv2.DRAW_MATCHES_FLAGS_DRAW_RICH_KEYPOINTS\n",
    "            )\n",
    "            \n",
    "            # Save the output image with keypoints\n",
    "            output_path = os.path.join('out', f\"sift_{cat}_{os.path.basename(jpg_path)}\")\n",
    "            cv2.imwrite(output_path, img_with_keypoints)\n"
   ]
  }
 ],
 "metadata": {
  "kernelspec": {
   "display_name": ".venv",
   "language": "python",
   "name": "python3"
  },
  "language_info": {
   "codemirror_mode": {
    "name": "ipython",
    "version": 3
   },
   "file_extension": ".py",
   "mimetype": "text/x-python",
   "name": "python",
   "nbconvert_exporter": "python",
   "pygments_lexer": "ipython3",
   "version": "3.12.2"
  }
 },
 "nbformat": 4,
 "nbformat_minor": 2
}
